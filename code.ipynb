{
 "cells": [
  {
   "cell_type": "code",
   "execution_count": null,
   "metadata": {},
   "outputs": [],
   "source": [
    "word = input(\"Enter any word : \")\n",
    "rword = \"\"\n",
    "for i in range(len(word)-1, -1, -1):\n",
    "    rword += word[i]\n",
    "print(\"word : \" ,word)\n",
    "print(\"Reverse word : \",rword)\n",
    "if word==rword:\n",
    "    print(word ,\" is a Palindrome word\")\n",
    "else:\n",
    "    print(word,\" is not a Palindrome word\")"
   ]
  }
 ],
 "metadata": {
  "language_info": {
   "name": "python"
  }
 },
 "nbformat": 4,
 "nbformat_minor": 2
}
